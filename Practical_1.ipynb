{
  "nbformat": 4,
  "nbformat_minor": 0,
  "metadata": {
    "colab": {
      "provenance": [],
      "authorship_tag": "ABX9TyMpvXfbYefcaVdFXlTqgwhZ",
      "include_colab_link": true
    },
    "kernelspec": {
      "name": "python3",
      "display_name": "Python 3"
    },
    "language_info": {
      "name": "python"
    }
  },
  "cells": [
    {
      "cell_type": "markdown",
      "metadata": {
        "id": "view-in-github",
        "colab_type": "text"
      },
      "source": [
        "<a href=\"https://colab.research.google.com/github/RushabhSingwi/RCOEM-Systems-Lab/blob/main/Practical_1.ipynb\" target=\"_parent\"><img src=\"https://colab.research.google.com/assets/colab-badge.svg\" alt=\"Open In Colab\"/></a>"
      ]
    },
    {
      "cell_type": "markdown",
      "source": [
        "(i)Write a python Program to Print data of different data types using variables and literal constants.\n",
        "(string, int, float, complex)"
      ],
      "metadata": {
        "id": "5lply-ozvweo"
      }
    },
    {
      "cell_type": "code",
      "execution_count": null,
      "metadata": {
        "colab": {
          "base_uri": "https://localhost:8080/"
        },
        "id": "uywN_Z4Avqsi",
        "outputId": "1698211e-4df3-4896-a42b-7af2f5ffd49f"
      },
      "outputs": [
        {
          "output_type": "stream",
          "name": "stdout",
          "text": [
            "Rushabh\n",
            "5\n",
            "3.14\n",
            "(9+4j)\n",
            "<class 'str'>\n",
            "<class 'int'>\n",
            "<class 'float'>\n",
            "<class 'complex'>\n",
            "140689817304880\n",
            "11126816\n",
            "140689681350064\n",
            "140689679733648\n"
          ]
        }
      ],
      "source": [
        "a = \"Rushabh\"\n",
        "b = 5\n",
        "c = 3.14\n",
        "d = 9 + 4j\n",
        "print(a)\n",
        "print(b)\n",
        "print(c)\n",
        "print(d)\n",
        "print(type(a))\n",
        "print(type(b))\n",
        "print(type(c))\n",
        "print(type(d))\n",
        "print(id(a))\n",
        "print(id(b))\n",
        "print(id(c))\n",
        "print(id(d))"
      ]
    },
    {
      "cell_type": "markdown",
      "source": [
        "(ii)Write a python Program to read two numbers from user input and apply all the arithmetic and\n",
        "comparison(Relational) operators."
      ],
      "metadata": {
        "id": "HvYOmkLgvuho"
      }
    },
    {
      "cell_type": "code",
      "source": [
        "a = float(input(\"Enter the first number \"))\n",
        "b = float(input(\"Enter the second number \"))\n",
        "#Aritmatic Operator\n",
        "print(\"Addition is: \",a+b)\n",
        "print(\"Subtraction is: \",a-b)\n",
        "print(\"Division is: \",a/b)\n",
        "print(\"Int Division is: \",a//b)\n",
        "print(\"Multiplication is: \",a*b)\n",
        "print(\"Exponential is: \", a**b)\n",
        "print(\"Modulus division is:\",a%b)\n",
        "#Conditional Operator\n",
        "print(\"a > b is:\",a>b)\n",
        "print(\"a >= b is:\",a>=b)\n",
        "print(\"a < b is:\",a<b)\n",
        "print(\"a <= b is:\",a<=b)\n",
        "print(\"a == b is:\",a==b)"
      ],
      "metadata": {
        "colab": {
          "base_uri": "https://localhost:8080/"
        },
        "id": "qp9pUcwjyPPQ",
        "outputId": "ae252a01-c5d3-45e0-dff7-12feacab885e"
      },
      "execution_count": null,
      "outputs": [
        {
          "output_type": "stream",
          "name": "stdout",
          "text": [
            "Enter the first number 5.4\n",
            "Enter the second number 9.8\n",
            "Addition is:  15.200000000000001\n",
            "Subtraction is:  -4.4\n",
            "Division is:  0.5510204081632653\n",
            "Int Division is:  0.0\n",
            "Multiplication is:  52.92000000000001\n",
            "Exponential is:  15047309.23779464\n",
            "Modulus division is: 5.4\n",
            "a > b is: False\n",
            "a >= b is: False\n",
            "a < b is: True\n",
            "a <= b is: True\n",
            "a == b is: False\n"
          ]
        }
      ]
    },
    {
      "cell_type": "markdown",
      "source": [
        "(iii)Write a python Program to demonstrate Logical operators,Identity operators,and Membership\n",
        "operator in python."
      ],
      "metadata": {
        "id": "-RDixYXD1VZi"
      }
    },
    {
      "cell_type": "code",
      "source": [
        "#Logical operators\n",
        "a = 40\n",
        "b = 30\n",
        "print(a>10 and b<40)\n",
        "print(a==3 or b>3)\n",
        "print(not a==40)\n",
        "\n",
        "#Identity operator \n",
        "print(a is b)\n",
        "\n",
        "#Membership Operator\n",
        "c = a in [10,15,40, 60 ,90]\n",
        "print(c)"
      ],
      "metadata": {
        "colab": {
          "base_uri": "https://localhost:8080/"
        },
        "id": "yqtVnNjy1B_t",
        "outputId": "6825fed7-184b-4d0f-b21c-7d0a7b60e1de"
      },
      "execution_count": null,
      "outputs": [
        {
          "output_type": "stream",
          "name": "stdout",
          "text": [
            "True\n",
            "True\n",
            "False\n",
            "False\n",
            "True\n"
          ]
        }
      ]
    },
    {
      "cell_type": "markdown",
      "source": [
        "(iv) Write a Python program to input temperature in Fahrenheit and convert into Celsius. And\n",
        "vice versa"
      ],
      "metadata": {
        "id": "07_c-O2l48c1"
      }
    },
    {
      "cell_type": "code",
      "source": [
        "a = float(input(\"Enter Temperature in Fahrenheit \"))\n",
        "b = float(input(\"Enter Temperature in Celcius \"))\n",
        "cel = ((5/9)*(a-32))\n",
        "far = (9/5)*b +32\n",
        "print(\"Temperature in Celcius is:\", cel)\n",
        "print(\"Temperature in Fahrenheit is:\", far)"
      ],
      "metadata": {
        "colab": {
          "base_uri": "https://localhost:8080/"
        },
        "id": "FKJ8HFFW30yU",
        "outputId": "b16788cb-1c36-408f-92eb-b8a3e20983dd"
      },
      "execution_count": null,
      "outputs": [
        {
          "output_type": "stream",
          "name": "stdout",
          "text": [
            "Enter Temperature in Fahrenheit 102\n",
            "Enter Temperature in Celcius 38\n",
            "Temperature in Celcius is: 38.88888888888889\n",
            "Temperature in Fahrenheit is: 100.4\n"
          ]
        }
      ]
    },
    {
      "cell_type": "markdown",
      "source": [
        "VI Write a python program to generate bill a grocery store. Accept from user: name of item, quantity, cost for three items.\n",
        "Compute the actual cost payable by applying discount(in %) and tax(in %)."
      ],
      "metadata": {
        "id": "PowPxi-u6ppM"
      }
    },
    {
      "cell_type": "code",
      "source": [
        "from prettytable import PrettyTable\n",
        "item1 = input(\"Enter first item name: \")\n",
        "quan1 = input(\"Enter quantity of first item: \")\n",
        "price1 = float(input(\"Enter price of first item: \"))\n",
        "item2 = input(\"Enter second item name: \")\n",
        "quan2 = input(\"Enter quantity of second item: \")\n",
        "price2 = float(input(\"Enter price of second item: \"))\n",
        "item3 = input(\"Enter third item name: \")\n",
        "quan3 = input(\"Enter quantity of third item: \")\n",
        "price3 = float(input(\"Enter price of third item: \"))\n",
        "total = price1 + price2 + price3\n",
        "print(\"***********BILL*************\")\n",
        "myTable = PrettyTable([\"Item name\",\"Quantity\",\"Price\"])\n",
        "myTable.add_row([item1, quan1, price1])\n",
        "myTable.add_row([item2, quan2, price2])\n",
        "myTable.add_row([item3, quan3, price3])\n",
        "print(myTable)\n",
        "print(\"*****************************\")\n",
        "print(\"Total                 \",total)\n",
        "print(\"*****************************\")\n",
        "print(\"Discount               \",0.1*total)\n",
        "print(\"Tax                     \",0.05*total)\n",
        "print(\"*****************************\")\n",
        "print(\"Payable amount         \",0.95*total)\n",
        "print(\"*****************************\")"
      ],
      "metadata": {
        "colab": {
          "base_uri": "https://localhost:8080/"
        },
        "id": "xC8iLLi45diJ",
        "outputId": "d6615876-b3ba-4857-8676-57536ff554e4"
      },
      "execution_count": 1,
      "outputs": [
        {
          "output_type": "stream",
          "name": "stdout",
          "text": [
            "Enter first item name: maggie\n",
            "Enter quantity of first item: 3\n",
            "Enter price of first item: 30\n",
            "Enter second item name: soap\n",
            "Enter quantity of second item: 4\n",
            "Enter price of second item: 50\n",
            "Enter third item name: bucket\n",
            "Enter quantity of third item: 1\n",
            "Enter price of third item: 60\n",
            "***********BILL*************\n",
            "+-----------+----------+-------+\n",
            "| Item name | Quantity | Price |\n",
            "+-----------+----------+-------+\n",
            "|   maggie  |    3     |  30.0 |\n",
            "|    soap   |    4     |  50.0 |\n",
            "|   bucket  |    1     |  60.0 |\n",
            "+-----------+----------+-------+\n",
            "*****************************\n",
            "Total                    140.0\n",
            "*****************************\n",
            "Discount             14.0\n",
            "Tax                  7.0\n",
            "*****************************\n",
            "Payable amount            133.0\n",
            "*****************************\n"
          ]
        }
      ]
    },
    {
      "cell_type": "code",
      "source": [],
      "metadata": {
        "id": "FvNes0e69GQm"
      },
      "execution_count": null,
      "outputs": []
    }
  ]
}